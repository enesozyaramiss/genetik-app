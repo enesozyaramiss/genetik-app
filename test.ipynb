{
 "cells": [
  {
   "cell_type": "code",
   "execution_count": 49,
   "id": "3b053fc1",
   "metadata": {},
   "outputs": [
    {
     "name": "stdout",
     "output_type": "stream",
     "text": [
      "Variation ID: 381467\n"
     ]
    }
   ],
   "source": [
    "import requests\n",
    "\n",
    "def create_hgvs(chrom, pos, ref, alt):\n",
    "    \"\"\"HGVS benzeri arama formatı üretir\"\"\"\n",
    "    return f\"{chrom}:g.{pos}{ref}>{alt}\"\n",
    "\n",
    "def search_variation_id(hgvs_str):\n",
    "    \"\"\"ClinVar'da varyant arayıp sadece Variation ID döndürür\"\"\"\n",
    "    url = \"https://eutils.ncbi.nlm.nih.gov/entrez/eutils/esearch.fcgi\"\n",
    "    params = {\n",
    "        \"db\": \"clinvar\",\n",
    "        \"term\": hgvs_str,\n",
    "        \"retmode\": \"json\"\n",
    "    }\n",
    "    response = requests.get(url, params=params)\n",
    "    data = response.json()\n",
    "    idlist = data.get(\"esearchresult\", {}).get(\"idlist\", [])\n",
    "    return idlist[0] if idlist else None\n",
    "\n",
    "# Örnek varyant bilgisi\n",
    "chrom = \"17\"\n",
    "pos = \"43124028\"\n",
    "ref = \"C\"\n",
    "alt = \"T\"\n",
    "\n",
    "# HGVS oluştur ve ID ara\n",
    "hgvs_str = create_hgvs(chrom, pos, ref, alt)\n",
    "variation_id = search_variation_id(hgvs_str)\n",
    "\n",
    "# Sadece Variation ID yazdır\n",
    "if variation_id:\n",
    "    print(f\"Variation ID: {variation_id}\")\n",
    "else:\n",
    "    print(\"❌ ClinVar Variation ID bulunamadı.\")\n"
   ]
  },
  {
   "cell_type": "code",
   "execution_count": 50,
   "id": "83d25a29",
   "metadata": {},
   "outputs": [
    {
     "name": "stdout",
     "output_type": "stream",
     "text": [
      "{'header': {'type': 'esummary', 'version': '0.3'}, 'result': {'uids': ['381467'], '381467': {'uid': '381467', 'obj_type': 'single nucleotide variant', 'accession': 'VCV000381467', 'accession_version': 'VCV000381467.18', 'title': 'NM_007294.4(BRCA1):c.69G>A (p.Glu23=)', 'variation_set': [{'measure_id': '375112', 'variation_xrefs': [{'db_source': 'ClinGen', 'db_id': 'CA059450'}, {'db_source': 'dbSNP', 'db_id': '766004110'}], 'variation_name': 'NM_007294.4(BRCA1):c.69G>A (p.Glu23=)', 'cdna_change': 'c.69G>A', 'aliases': [], 'variation_loc': [{'status': 'current', 'assembly_name': 'GRCh38', 'chr': '17', 'band': '17q21.31', 'start': '43124028', 'stop': '43124028', 'inner_start': '', 'inner_stop': '', 'outer_start': '', 'outer_stop': '', 'display_start': '43124028', 'display_stop': '43124028', 'assembly_acc_ver': 'GCF_000001405.38', 'annotation_release': '', 'alt': '', 'ref': ''}, {'status': 'previous', 'assembly_name': 'GRCh37', 'chr': '17', 'band': '17q21.31', 'start': '41276045', 'stop': '41276045', 'inner_start': '', 'inner_stop': '', 'outer_start': '', 'outer_stop': '', 'display_start': '41276045', 'display_stop': '41276045', 'assembly_acc_ver': 'GCF_000001405.25', 'annotation_release': '', 'alt': '', 'ref': ''}], 'allele_freq_set': [{'source': 'The Genome Aggregation Database (gnomAD)', 'value': '0.00000', 'minor_allele': ''}, {'source': 'The Genome Aggregation Database (gnomAD), exomes', 'value': '0.00000', 'minor_allele': ''}, {'source': 'Exome Aggregation Consortium (ExAC)', 'value': '0.00001', 'minor_allele': ''}, {'source': 'The Genome Aggregation Database (gnomAD)', 'value': '0.00001', 'minor_allele': ''}, {'source': 'The Genome Aggregation Database (gnomAD), exomes', 'value': '0.00001', 'minor_allele': ''}, {'source': 'Trans-Omics for Precision Medicine (TOPMed)', 'value': '0.00001', 'minor_allele': ''}], 'variant_type': 'single nucleotide variant', 'canonical_spdi': 'NC_000017.11:43124027:C:T', 'common_name': ''}], 'supporting_submissions': {'scv': ['SCV000520745', 'SCV000578337', 'SCV001243681', 'SCV001188175', 'SCV000759459'], 'rcv': ['RCV000444749', 'RCV000495766', 'RCV000637979', 'RCV001025898']}, 'germline_classification': {'description': 'Likely benign', 'last_evaluated': '2017/06/29 00:00', 'review_status': 'reviewed by expert panel', 'fda_recognized_database': '', 'trait_set': [{'trait_xrefs': [{'db_source': 'Orphanet', 'db_id': '145'}, {'db_source': 'MedGen', 'db_id': 'C2676676'}, {'db_source': 'MONDO', 'db_id': 'MONDO:0011450'}, {'db_source': 'OMIM', 'db_id': '604370'}], 'trait_name': 'Breast-ovarian cancer, familial, susceptibility to, 1'}]}, 'clinical_impact_classification': {'description': '', 'last_evaluated': '1/01/01 00:00', 'review_status': '', 'fda_recognized_database': '', 'trait_set': []}, 'oncogenicity_classification': {'description': '', 'last_evaluated': '1/01/01 00:00', 'review_status': '', 'fda_recognized_database': '', 'trait_set': []}, 'record_status': '', 'gene_sort': 'BRCA1', 'chr_sort': '17', 'location_sort': '00000000000043124028', 'variation_set_name': '', 'variation_set_id': '', 'genes': [{'symbol': 'BRCA1', 'geneid': '672', 'strand': '-', 'source': 'submitted'}], 'molecular_consequence_list': ['5 prime UTR variant', 'synonymous variant', 'intron variant'], 'protein_change': '', 'fda_recognized_database': ''}}}\n"
     ]
    }
   ],
   "source": [
    "import requests\n",
    "\n",
    "variation_id = \"381467\"\n",
    "url = f\"https://eutils.ncbi.nlm.nih.gov/entrez/eutils/esummary.fcgi?db=clinvar&id={variation_id}&retmode=json\"\n",
    "\n",
    "response = requests.get(url)\n",
    "data = response.json()\n",
    "\n",
    "print(data)\n"
   ]
  },
  {
   "cell_type": "code",
   "execution_count": 51,
   "id": "30f6bded",
   "metadata": {},
   "outputs": [
    {
     "name": "stdout",
     "output_type": "stream",
     "text": [
      "\n",
      "🔍 Varyant Özeti:\n",
      "- Title: NM_007294.4(BRCA1):c.69G>A (p.Glu23=)\n",
      "- Accession: VCV000381467.18\n",
      "- Gene: BRCA1\n",
      "- Variation Type: single nucleotide variant\n",
      "\n",
      "🧬 Genomik Konum:\n",
      "- GRCh38: Chr 17 : 43124028\n",
      "- GRCh37: Chr 17 : 41276045\n",
      "- SPDI: NC_000017.11:43124027:C:T\n",
      "\n",
      "⚠️ Klinik Bilgi:\n",
      "- Klinik Sınıflandırma: Likely benign\n",
      "- İlişkili Hastalık: Breast-ovarian cancer, familial, susceptibility to, 1\n",
      "- Değerlendirme: reviewed by expert panel (2017/06/29 00:00)\n",
      "\n",
      "📊 Allele Frekansları:\n",
      "The Genome Aggregation Database (gnomAD): 0.00000\n",
      "The Genome Aggregation Database (gnomAD), exomes: 0.00000\n",
      "Exome Aggregation Consortium (ExAC): 0.00001\n",
      "The Genome Aggregation Database (gnomAD): 0.00001\n",
      "The Genome Aggregation Database (gnomAD), exomes: 0.00001\n",
      "Trans-Omics for Precision Medicine (TOPMed): 0.00001\n",
      "\n",
      "🧬 Moleküler Etki:\n",
      "5 prime UTR variant, synonymous variant, intron variant\n",
      "\n"
     ]
    }
   ],
   "source": [
    "import requests\n",
    "\n",
    "# 🔎 Variation ID ile ClinVar'dan veri çek\n",
    "variation_id = \"381467\"\n",
    "url = f\"https://eutils.ncbi.nlm.nih.gov/entrez/eutils/esummary.fcgi?db=clinvar&id={variation_id}&retmode=json\"\n",
    "\n",
    "response = requests.get(url)\n",
    "data = response.json()\n",
    "\n",
    "# 🔍 Veriyi özetle\n",
    "vid = list(data[\"result\"][\"uids\"])[0]\n",
    "info = data[\"result\"][vid]\n",
    "\n",
    "title = info.get(\"title\", \"Yok\")\n",
    "accession = info.get(\"accession_version\", \"Yok\")\n",
    "gene = info.get(\"genes\", [{}])[0].get(\"symbol\", \"Yok\")\n",
    "variant_type = info.get(\"obj_type\", \"Yok\")\n",
    "\n",
    "locations = info.get(\"variation_set\", [])[0].get(\"variation_loc\", [])\n",
    "grch38 = next((l for l in locations if l[\"assembly_name\"] == \"GRCh38\"), {})\n",
    "grch37 = next((l for l in locations if l[\"assembly_name\"] == \"GRCh37\"), {})\n",
    "spdi = info[\"variation_set\"][0].get(\"canonical_spdi\", \"Yok\")\n",
    "\n",
    "clinical = info.get(\"germline_classification\", {})\n",
    "clinical_sig = clinical.get(\"description\", \"Yok\")\n",
    "review_status = clinical.get(\"review_status\", \"Yok\")\n",
    "trait = clinical.get(\"trait_set\", [{}])[0].get(\"trait_name\", \"Yok\")\n",
    "last_eval = clinical.get(\"last_evaluated\", \"Yok\")\n",
    "\n",
    "allele_freqs = info[\"variation_set\"][0].get(\"allele_freq_set\", [])\n",
    "freq_str = \"\\n\".join([f\"{f['source']}: {f['value']}\" for f in allele_freqs]) or \"Yok\"\n",
    "\n",
    "molecular = \", \".join(info.get(\"molecular_consequence_list\", [])) or \"Yok\"\n",
    "\n",
    "summary = f\"\"\"\n",
    "🔍 Varyant Özeti:\n",
    "- Title: {title}\n",
    "- Accession: {accession}\n",
    "- Gene: {gene}\n",
    "- Variation Type: {variant_type}\n",
    "\n",
    "🧬 Genomik Konum:\n",
    "- GRCh38: Chr {grch38.get('chr')} : {grch38.get('start')}\n",
    "- GRCh37: Chr {grch37.get('chr')} : {grch37.get('start')}\n",
    "- SPDI: {spdi}\n",
    "\n",
    "⚠️ Klinik Bilgi:\n",
    "- Klinik Sınıflandırma: {clinical_sig}\n",
    "- İlişkili Hastalık: {trait}\n",
    "- Değerlendirme: {review_status} ({last_eval})\n",
    "\n",
    "📊 Allele Frekansları:\n",
    "{freq_str}\n",
    "\n",
    "🧬 Moleküler Etki:\n",
    "{molecular}\n",
    "\"\"\"\n",
    "\n",
    "print(summary)\n"
   ]
  },
  {
   "cell_type": "code",
   "execution_count": null,
   "id": "7d89e1e7",
   "metadata": {},
   "outputs": [],
   "source": []
  }
 ],
 "metadata": {
  "kernelspec": {
   "display_name": "base",
   "language": "python",
   "name": "python3"
  },
  "language_info": {
   "codemirror_mode": {
    "name": "ipython",
    "version": 3
   },
   "file_extension": ".py",
   "mimetype": "text/x-python",
   "name": "python",
   "nbconvert_exporter": "python",
   "pygments_lexer": "ipython3",
   "version": "3.11.5"
  }
 },
 "nbformat": 4,
 "nbformat_minor": 5
}
